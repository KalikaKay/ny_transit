version https://git-lfs.github.com/spec/v1
oid sha256:2f6a9924ad578d78aec3e6ecaec7f7770a2bfec63824ea9ed5d6a50fb5bc2d71
size 2377633
